{
 "cells": [
  {
   "cell_type": "markdown",
   "metadata": {},
   "source": [
    "## ABSTRACT\n",
    "\n",
    "Linear Model is the form of supervised learning, in which we feed the model/algorithm set of attributes called dependent variables and dependent variable which we need to predict. Initially, we provide independent and their corresponding dependent variable to train the model. The basic idea is to obtain best fit line along our datapoints and best fit line is which has minimumm sum of distance between datapoints to our regression line. \n",
    "\n",
    "Basic equation for linear model can be defined as Euclidean dot product between 2 vectors: where 'w' is the weight vector and 'x' is the input vector.\n",
    "$$ f(x; w) = w^T x = \\sum_{0}^{D} w_i x_i $$ \n",
    "\n",
    "LSTM (Long Short-Term Memory network) is a type of recurrent neural network capable of remembering the past information and while predicting the future values, it takes this past information into account. LSTM networks are well-suited to classifying, processing and making predictions based on time series data, since there can be lags of unknown duration between important events in a time series. This is important in our case because the previous sales data is crucial in predicting its future sales.\n",
    "\n",
    "###### Conclusion : \n",
    "We will use historical data to identify any key trends in the business, as well as develop a sales forecast to set goals for the marketing teamsusing some statistical approaches.\n",
    "\n"
   ]
  },
  {
   "cell_type": "code",
   "execution_count": 171,
   "metadata": {},
   "outputs": [],
   "source": [
    "# importing libraries\n",
    "%matplotlib inline\n",
    "import matplotlib.pyplot as plt\n",
    "import seaborn as sns\n",
    "import pandas as pd\n",
    "import numpy as np\n",
    "import time\n",
    "\n",
    "import plotly.offline as pyoff\n",
    "import plotly.graph_objs as go"
   ]
  },
  {
   "cell_type": "markdown",
   "metadata": {},
   "source": [
    "## THE DATA \n",
    "The Data - contains the detailed information of the dataset. The dataset contains purchases made by customers of an e-commerce business.\n",
    "\n",
    "Dataset: https://storage.googleapis.com/comoto-interview-data/ecom_data.csv\n",
    "\n",
    "Number of Rows: 406829                                                                                         \n",
    "Number of Columns: 10\n",
    "\n",
    "Columns present in the dataset are:                                                                            \n",
    "1 -  Sales Order   \n",
    "2 -  SKU             \n",
    "3 -  Description                               \n",
    "4 -  UnitPrice                       \n",
    "5 -  CustomerID           \n",
    "6 -  Channel                                                  \n",
    "7 -  State\n",
    "8 -  InvoiceDay           \n",
    "9 -  Sales                                                  \n",
    "10 - Quantity"
   ]
  },
  {
   "cell_type": "code",
   "execution_count": 167,
   "metadata": {},
   "outputs": [],
   "source": [
    "#reading the data from csv file\n",
    "ecom = pd.read_csv(\"ecom_data.csv\")"
   ]
  },
  {
   "cell_type": "markdown",
   "metadata": {},
   "source": [
    "## DATA CLEANING AND PROCESSING"
   ]
  },
  {
   "cell_type": "code",
   "execution_count": 149,
   "metadata": {
    "scrolled": true
   },
   "outputs": [
    {
     "data": {
      "text/html": [
       "<div>\n",
       "<style scoped>\n",
       "    .dataframe tbody tr th:only-of-type {\n",
       "        vertical-align: middle;\n",
       "    }\n",
       "\n",
       "    .dataframe tbody tr th {\n",
       "        vertical-align: top;\n",
       "    }\n",
       "\n",
       "    .dataframe thead th {\n",
       "        text-align: right;\n",
       "    }\n",
       "</style>\n",
       "<table border=\"1\" class=\"dataframe\">\n",
       "  <thead>\n",
       "    <tr style=\"text-align: right;\">\n",
       "      <th></th>\n",
       "      <th>SalesOrder</th>\n",
       "      <th>SKU</th>\n",
       "      <th>Description</th>\n",
       "      <th>UnitPrice</th>\n",
       "      <th>CustomerID</th>\n",
       "      <th>Channel</th>\n",
       "      <th>State</th>\n",
       "      <th>InvoiceDay</th>\n",
       "      <th>Sales</th>\n",
       "      <th>Quantity</th>\n",
       "    </tr>\n",
       "  </thead>\n",
       "  <tbody>\n",
       "    <tr>\n",
       "      <td>0</td>\n",
       "      <td>580636</td>\n",
       "      <td>22474</td>\n",
       "      <td>SPACEBOY TV DINNER TRAY</td>\n",
       "      <td>1.95</td>\n",
       "      <td>16746.0</td>\n",
       "      <td>Mailing</td>\n",
       "      <td>IL</td>\n",
       "      <td>2011-12-05</td>\n",
       "      <td>31.20</td>\n",
       "      <td>16.0</td>\n",
       "    </tr>\n",
       "    <tr>\n",
       "      <td>1</td>\n",
       "      <td>581426</td>\n",
       "      <td>70006</td>\n",
       "      <td>LOVE HEART POCKET WARMER</td>\n",
       "      <td>0.79</td>\n",
       "      <td>17757.0</td>\n",
       "      <td>Organic Social</td>\n",
       "      <td>WA</td>\n",
       "      <td>2011-12-08</td>\n",
       "      <td>2.37</td>\n",
       "      <td>3.0</td>\n",
       "    </tr>\n",
       "    <tr>\n",
       "      <td>2</td>\n",
       "      <td>575063</td>\n",
       "      <td>22697</td>\n",
       "      <td>GREEN REGENCY TEACUP AND SAUCER</td>\n",
       "      <td>2.95</td>\n",
       "      <td>16764.0</td>\n",
       "      <td>Display</td>\n",
       "      <td>TX</td>\n",
       "      <td>2011-11-08</td>\n",
       "      <td>8.85</td>\n",
       "      <td>3.0</td>\n",
       "    </tr>\n",
       "    <tr>\n",
       "      <td>3</td>\n",
       "      <td>544065</td>\n",
       "      <td>20726</td>\n",
       "      <td>LUNCH BAG WOODLAND</td>\n",
       "      <td>1.65</td>\n",
       "      <td>14346.0</td>\n",
       "      <td>Organic Social</td>\n",
       "      <td>TX</td>\n",
       "      <td>2011-02-15</td>\n",
       "      <td>13.20</td>\n",
       "      <td>8.0</td>\n",
       "    </tr>\n",
       "    <tr>\n",
       "      <td>4</td>\n",
       "      <td>568896</td>\n",
       "      <td>85049E</td>\n",
       "      <td>SCANDINAVIAN REDS RIBBONS</td>\n",
       "      <td>1.25</td>\n",
       "      <td>16361.0</td>\n",
       "      <td>Store</td>\n",
       "      <td>NY</td>\n",
       "      <td>2011-09-29</td>\n",
       "      <td>52.50</td>\n",
       "      <td>42.0</td>\n",
       "    </tr>\n",
       "    <tr>\n",
       "      <td>5</td>\n",
       "      <td>559542</td>\n",
       "      <td>23209</td>\n",
       "      <td>LUNCH BAG DOILEY PATTERN</td>\n",
       "      <td>1.65</td>\n",
       "      <td>17126.0</td>\n",
       "      <td>Email</td>\n",
       "      <td>CA</td>\n",
       "      <td>2011-07-10</td>\n",
       "      <td>9.90</td>\n",
       "      <td>6.0</td>\n",
       "    </tr>\n",
       "    <tr>\n",
       "      <td>6</td>\n",
       "      <td>569868</td>\n",
       "      <td>23493</td>\n",
       "      <td>VINTAGE DOILY TRAVEL SEWING KIT</td>\n",
       "      <td>1.95</td>\n",
       "      <td>13018.0</td>\n",
       "      <td>Organic Social</td>\n",
       "      <td>MO</td>\n",
       "      <td>2011-10-06</td>\n",
       "      <td>15.60</td>\n",
       "      <td>8.0</td>\n",
       "    </tr>\n",
       "    <tr>\n",
       "      <td>7</td>\n",
       "      <td>575303</td>\n",
       "      <td>23321</td>\n",
       "      <td>SMALL WHITE HEART OF WICKER</td>\n",
       "      <td>1.65</td>\n",
       "      <td>12893.0</td>\n",
       "      <td>Store</td>\n",
       "      <td>IA</td>\n",
       "      <td>2011-11-09</td>\n",
       "      <td>13.20</td>\n",
       "      <td>8.0</td>\n",
       "    </tr>\n",
       "    <tr>\n",
       "      <td>8</td>\n",
       "      <td>567145</td>\n",
       "      <td>21154</td>\n",
       "      <td>RED RETROSPOT OVEN GLOVE</td>\n",
       "      <td>1.25</td>\n",
       "      <td>12921.0</td>\n",
       "      <td>Organic Social</td>\n",
       "      <td>AK</td>\n",
       "      <td>2011-09-16</td>\n",
       "      <td>10.00</td>\n",
       "      <td>8.0</td>\n",
       "    </tr>\n",
       "    <tr>\n",
       "      <td>9</td>\n",
       "      <td>574444</td>\n",
       "      <td>21967</td>\n",
       "      <td>PACK OF 12 SKULL TISSUES</td>\n",
       "      <td>0.39</td>\n",
       "      <td>18122.0</td>\n",
       "      <td>Store</td>\n",
       "      <td>CA</td>\n",
       "      <td>2011-11-04</td>\n",
       "      <td>39.78</td>\n",
       "      <td>102.0</td>\n",
       "    </tr>\n",
       "  </tbody>\n",
       "</table>\n",
       "</div>"
      ],
      "text/plain": [
       "  SalesOrder     SKU                      Description  UnitPrice  CustomerID  \\\n",
       "0     580636   22474          SPACEBOY TV DINNER TRAY       1.95     16746.0   \n",
       "1     581426   70006         LOVE HEART POCKET WARMER       0.79     17757.0   \n",
       "2     575063   22697  GREEN REGENCY TEACUP AND SAUCER       2.95     16764.0   \n",
       "3     544065   20726               LUNCH BAG WOODLAND       1.65     14346.0   \n",
       "4     568896  85049E        SCANDINAVIAN REDS RIBBONS       1.25     16361.0   \n",
       "5     559542   23209        LUNCH BAG DOILEY PATTERN        1.65     17126.0   \n",
       "6     569868   23493  VINTAGE DOILY TRAVEL SEWING KIT       1.95     13018.0   \n",
       "7     575303   23321      SMALL WHITE HEART OF WICKER       1.65     12893.0   \n",
       "8     567145   21154        RED RETROSPOT OVEN GLOVE        1.25     12921.0   \n",
       "9     574444   21967         PACK OF 12 SKULL TISSUES       0.39     18122.0   \n",
       "\n",
       "          Channel State  InvoiceDay  Sales  Quantity  \n",
       "0         Mailing    IL  2011-12-05  31.20      16.0  \n",
       "1  Organic Social    WA  2011-12-08   2.37       3.0  \n",
       "2         Display    TX  2011-11-08   8.85       3.0  \n",
       "3  Organic Social    TX  2011-02-15  13.20       8.0  \n",
       "4           Store    NY  2011-09-29  52.50      42.0  \n",
       "5           Email    CA  2011-07-10   9.90       6.0  \n",
       "6  Organic Social    MO  2011-10-06  15.60       8.0  \n",
       "7           Store    IA  2011-11-09  13.20       8.0  \n",
       "8  Organic Social    AK  2011-09-16  10.00       8.0  \n",
       "9           Store    CA  2011-11-04  39.78     102.0  "
      ]
     },
     "execution_count": 149,
     "metadata": {},
     "output_type": "execute_result"
    }
   ],
   "source": [
    "#ecom.head() by default will return us the first five values of the csv file as per the input provided by us.\n",
    "ecom.head(10)"
   ]
  },
  {
   "cell_type": "code",
   "execution_count": 150,
   "metadata": {},
   "outputs": [
    {
     "name": "stdout",
     "output_type": "stream",
     "text": [
      "<class 'pandas.core.frame.DataFrame'>\n",
      "RangeIndex: 406829 entries, 0 to 406828\n",
      "Data columns (total 10 columns):\n",
      "SalesOrder     406829 non-null object\n",
      "SKU            406829 non-null object\n",
      "Description    406829 non-null object\n",
      "UnitPrice      406829 non-null float64\n",
      "CustomerID     406829 non-null float64\n",
      "Channel        406829 non-null object\n",
      "State          406829 non-null object\n",
      "InvoiceDay     406829 non-null object\n",
      "Sales          406829 non-null float64\n",
      "Quantity       406829 non-null float64\n",
      "dtypes: float64(4), object(6)\n",
      "memory usage: 31.0+ MB\n"
     ]
    }
   ],
   "source": [
    "#ecom.info() will print a concise summary of a DataFrame.\n",
    "ecom.info()"
   ]
  },
  {
   "cell_type": "code",
   "execution_count": 31,
   "metadata": {},
   "outputs": [
    {
     "data": {
      "text/plain": [
       "(406829, 10)"
      ]
     },
     "execution_count": 31,
     "metadata": {},
     "output_type": "execute_result"
    }
   ],
   "source": [
    "#ecom.shape will tell us the number of rows and columns of our dataset.\n",
    "ecom.shape"
   ]
  },
  {
   "cell_type": "code",
   "execution_count": 32,
   "metadata": {},
   "outputs": [
    {
     "data": {
      "text/plain": [
       "SalesOrder     0\n",
       "SKU            0\n",
       "Description    0\n",
       "UnitPrice      0\n",
       "CustomerID     0\n",
       "Channel        0\n",
       "State          0\n",
       "InvoiceDay     0\n",
       "Sales          0\n",
       "Quantity       0\n",
       "dtype: int64"
      ]
     },
     "execution_count": 32,
     "metadata": {},
     "output_type": "execute_result"
    }
   ],
   "source": [
    "#The below output is displaying the number of null values of all the fields.\n",
    "#We have used this function to check if there are any null values present in our dataset.\n",
    "ecom.isnull().sum()"
   ]
  },
  {
   "cell_type": "markdown",
   "metadata": {},
   "source": [
    "df.describe() results in 3 kind of data : Numeric Data(Default) , Object Data and Categorical Data.\n",
    "df.describe() by default will include the numeric data(count,min,max,mean,std,lower percentile(default = 25%), 50 percentile and upper percentile(default = 75%)) which is displayed in our Output below."
   ]
  },
  {
   "cell_type": "code",
   "execution_count": 33,
   "metadata": {},
   "outputs": [
    {
     "data": {
      "text/html": [
       "<div>\n",
       "<style scoped>\n",
       "    .dataframe tbody tr th:only-of-type {\n",
       "        vertical-align: middle;\n",
       "    }\n",
       "\n",
       "    .dataframe tbody tr th {\n",
       "        vertical-align: top;\n",
       "    }\n",
       "\n",
       "    .dataframe thead th {\n",
       "        text-align: right;\n",
       "    }\n",
       "</style>\n",
       "<table border=\"1\" class=\"dataframe\">\n",
       "  <thead>\n",
       "    <tr style=\"text-align: right;\">\n",
       "      <th></th>\n",
       "      <th>UnitPrice</th>\n",
       "      <th>CustomerID</th>\n",
       "      <th>Sales</th>\n",
       "      <th>Quantity</th>\n",
       "    </tr>\n",
       "  </thead>\n",
       "  <tbody>\n",
       "    <tr>\n",
       "      <td>count</td>\n",
       "      <td>406829.000000</td>\n",
       "      <td>406829.000000</td>\n",
       "      <td>406829.000000</td>\n",
       "      <td>406829.000000</td>\n",
       "    </tr>\n",
       "    <tr>\n",
       "      <td>mean</td>\n",
       "      <td>3.584609</td>\n",
       "      <td>15289.299418</td>\n",
       "      <td>67.019345</td>\n",
       "      <td>39.569822</td>\n",
       "    </tr>\n",
       "    <tr>\n",
       "      <td>std</td>\n",
       "      <td>74.839305</td>\n",
       "      <td>1713.914964</td>\n",
       "      <td>598.171427</td>\n",
       "      <td>315.016681</td>\n",
       "    </tr>\n",
       "    <tr>\n",
       "      <td>min</td>\n",
       "      <td>0.000000</td>\n",
       "      <td>12346.000000</td>\n",
       "      <td>-127788.960000</td>\n",
       "      <td>-61437.000000</td>\n",
       "    </tr>\n",
       "    <tr>\n",
       "      <td>25%</td>\n",
       "      <td>1.250000</td>\n",
       "      <td>13954.000000</td>\n",
       "      <td>7.980000</td>\n",
       "      <td>4.000000</td>\n",
       "    </tr>\n",
       "    <tr>\n",
       "      <td>50%</td>\n",
       "      <td>1.950000</td>\n",
       "      <td>15152.000000</td>\n",
       "      <td>20.800000</td>\n",
       "      <td>9.000000</td>\n",
       "    </tr>\n",
       "    <tr>\n",
       "      <td>75%</td>\n",
       "      <td>3.750000</td>\n",
       "      <td>16794.000000</td>\n",
       "      <td>60.000000</td>\n",
       "      <td>31.000000</td>\n",
       "    </tr>\n",
       "    <tr>\n",
       "      <td>max</td>\n",
       "      <td>38970.000000</td>\n",
       "      <td>18287.000000</td>\n",
       "      <td>127788.960000</td>\n",
       "      <td>97405.000000</td>\n",
       "    </tr>\n",
       "  </tbody>\n",
       "</table>\n",
       "</div>"
      ],
      "text/plain": [
       "           UnitPrice     CustomerID          Sales       Quantity\n",
       "count  406829.000000  406829.000000  406829.000000  406829.000000\n",
       "mean        3.584609   15289.299418      67.019345      39.569822\n",
       "std        74.839305    1713.914964     598.171427     315.016681\n",
       "min         0.000000   12346.000000 -127788.960000  -61437.000000\n",
       "25%         1.250000   13954.000000       7.980000       4.000000\n",
       "50%         1.950000   15152.000000      20.800000       9.000000\n",
       "75%         3.750000   16794.000000      60.000000      31.000000\n",
       "max     38970.000000   18287.000000  127788.960000   97405.000000"
      ]
     },
     "execution_count": 33,
     "metadata": {},
     "output_type": "execute_result"
    }
   ],
   "source": [
    "ecom.describe()"
   ]
  },
  {
   "cell_type": "code",
   "execution_count": 34,
   "metadata": {},
   "outputs": [],
   "source": [
    "ecom['Sales'] = ecom['Sales'].apply(lambda x: float(\"{:.2f}\".format(x)))"
   ]
  },
  {
   "cell_type": "code",
   "execution_count": 35,
   "metadata": {},
   "outputs": [],
   "source": [
    "ecom['UnitPrice'] = ecom['UnitPrice'].apply(lambda x: float(\"{:.2f}\".format(x)))"
   ]
  },
  {
   "cell_type": "code",
   "execution_count": 151,
   "metadata": {},
   "outputs": [
    {
     "data": {
      "text/html": [
       "<div>\n",
       "<style scoped>\n",
       "    .dataframe tbody tr th:only-of-type {\n",
       "        vertical-align: middle;\n",
       "    }\n",
       "\n",
       "    .dataframe tbody tr th {\n",
       "        vertical-align: top;\n",
       "    }\n",
       "\n",
       "    .dataframe thead th {\n",
       "        text-align: right;\n",
       "    }\n",
       "</style>\n",
       "<table border=\"1\" class=\"dataframe\">\n",
       "  <thead>\n",
       "    <tr style=\"text-align: right;\">\n",
       "      <th></th>\n",
       "      <th>UnitPrice</th>\n",
       "      <th>CustomerID</th>\n",
       "      <th>Sales</th>\n",
       "      <th>Quantity</th>\n",
       "    </tr>\n",
       "  </thead>\n",
       "  <tbody>\n",
       "    <tr>\n",
       "      <td>UnitPrice</td>\n",
       "      <td>1.000000</td>\n",
       "      <td>-0.003443</td>\n",
       "      <td>-0.100739</td>\n",
       "      <td>-0.003174</td>\n",
       "    </tr>\n",
       "    <tr>\n",
       "      <td>CustomerID</td>\n",
       "      <td>-0.003443</td>\n",
       "      <td>1.000000</td>\n",
       "      <td>-0.002495</td>\n",
       "      <td>-0.006864</td>\n",
       "    </tr>\n",
       "    <tr>\n",
       "      <td>Sales</td>\n",
       "      <td>-0.100739</td>\n",
       "      <td>-0.002495</td>\n",
       "      <td>1.000000</td>\n",
       "      <td>0.677876</td>\n",
       "    </tr>\n",
       "    <tr>\n",
       "      <td>Quantity</td>\n",
       "      <td>-0.003174</td>\n",
       "      <td>-0.006864</td>\n",
       "      <td>0.677876</td>\n",
       "      <td>1.000000</td>\n",
       "    </tr>\n",
       "  </tbody>\n",
       "</table>\n",
       "</div>"
      ],
      "text/plain": [
       "            UnitPrice  CustomerID     Sales  Quantity\n",
       "UnitPrice    1.000000   -0.003443 -0.100739 -0.003174\n",
       "CustomerID  -0.003443    1.000000 -0.002495 -0.006864\n",
       "Sales       -0.100739   -0.002495  1.000000  0.677876\n",
       "Quantity    -0.003174   -0.006864  0.677876  1.000000"
      ]
     },
     "execution_count": 151,
     "metadata": {},
     "output_type": "execute_result"
    }
   ],
   "source": [
    "# ecom.corr() = It computes the pairwise correlation of columns, excluding NA/null values.\n",
    "ecom.corr()"
   ]
  },
  {
   "cell_type": "code",
   "execution_count": 37,
   "metadata": {},
   "outputs": [
    {
     "data": {
      "text/html": [
       "<div>\n",
       "<style scoped>\n",
       "    .dataframe tbody tr th:only-of-type {\n",
       "        vertical-align: middle;\n",
       "    }\n",
       "\n",
       "    .dataframe tbody tr th {\n",
       "        vertical-align: top;\n",
       "    }\n",
       "\n",
       "    .dataframe thead th {\n",
       "        text-align: right;\n",
       "    }\n",
       "</style>\n",
       "<table border=\"1\" class=\"dataframe\">\n",
       "  <thead>\n",
       "    <tr style=\"text-align: right;\">\n",
       "      <th></th>\n",
       "      <th>UnitPrice</th>\n",
       "      <th>CustomerID</th>\n",
       "      <th>Sales</th>\n",
       "      <th>Quantity</th>\n",
       "    </tr>\n",
       "  </thead>\n",
       "  <tbody>\n",
       "    <tr>\n",
       "      <td>UnitPrice</td>\n",
       "      <td>1.000000</td>\n",
       "      <td>0.003443</td>\n",
       "      <td>0.100739</td>\n",
       "      <td>0.003174</td>\n",
       "    </tr>\n",
       "    <tr>\n",
       "      <td>CustomerID</td>\n",
       "      <td>0.003443</td>\n",
       "      <td>1.000000</td>\n",
       "      <td>0.002495</td>\n",
       "      <td>0.006864</td>\n",
       "    </tr>\n",
       "    <tr>\n",
       "      <td>Sales</td>\n",
       "      <td>0.100739</td>\n",
       "      <td>0.002495</td>\n",
       "      <td>1.000000</td>\n",
       "      <td>0.677876</td>\n",
       "    </tr>\n",
       "    <tr>\n",
       "      <td>Quantity</td>\n",
       "      <td>0.003174</td>\n",
       "      <td>0.006864</td>\n",
       "      <td>0.677876</td>\n",
       "      <td>1.000000</td>\n",
       "    </tr>\n",
       "  </tbody>\n",
       "</table>\n",
       "</div>"
      ],
      "text/plain": [
       "            UnitPrice  CustomerID     Sales  Quantity\n",
       "UnitPrice    1.000000    0.003443  0.100739  0.003174\n",
       "CustomerID   0.003443    1.000000  0.002495  0.006864\n",
       "Sales        0.100739    0.002495  1.000000  0.677876\n",
       "Quantity     0.003174    0.006864  0.677876  1.000000"
      ]
     },
     "execution_count": 37,
     "metadata": {},
     "output_type": "execute_result"
    }
   ],
   "source": [
    "# ecom.corr().abs() = It computes the pairwise correlation of columns, excluding NA/null values with the absolute values.\n",
    "ecom.corr().abs()"
   ]
  },
  {
   "cell_type": "markdown",
   "metadata": {},
   "source": [
    " ## EXPLORATORY DATA ANALYSIS"
   ]
  },
  {
   "cell_type": "markdown",
   "metadata": {},
   "source": [
    "plt.figure : will plot the figure with the provided figure size.                                                  \n",
    "sns.heatmap : will plot the heatmap i.e. it will plot the correlated columns.                                     \n",
    "annot= True : will display the values of correlation in the heatmap.\n",
    "                                                                                                                     \n",
    "I am plotting the heatmap to visualise the correlations between the columns which will help me to analyse the flow of the data while plotting different graphs           "
   ]
  },
  {
   "cell_type": "code",
   "execution_count": 152,
   "metadata": {},
   "outputs": [
    {
     "data": {
      "text/plain": [
       "<matplotlib.axes._subplots.AxesSubplot at 0x7fbf205484d0>"
      ]
     },
     "execution_count": 152,
     "metadata": {},
     "output_type": "execute_result"
    },
    {
     "data": {
      "image/png": "[encoded data removed]",
      "text/plain": [
       "<Figure size 1080x720 with 2 Axes>"
      ]
     },
     "metadata": {
      "needs_background": "light"
     },
     "output_type": "display_data"
    }
   ],
   "source": [
    "plt.figure(figsize=(15,10))\n",
    "sns.heatmap(ecom.corr(),fmt=\".2f\", annot= True)"
   ]
  },
  {
   "cell_type": "code",
   "execution_count": 155,
   "metadata": {},
   "outputs": [
    {
     "data": {
      "text/plain": [
       "<matplotlib.axes._subplots.AxesSubplot at 0x7fbf29a44b50>"
      ]
     },
     "execution_count": 155,
     "metadata": {},
     "output_type": "execute_result"
    },
    {
     "data": {
      "image/png": "[encoded data removed]",
      "text/plain": [
       "<Figure size 2160x1080 with 1 Axes>"
      ]
     },
     "metadata": {
      "needs_background": "light"
     },
     "output_type": "display_data"
    }
   ],
   "source": [
    "# I am plotting this bargraph to visualize the data between Sales and Channel columns.\n",
    "plt.figure(figsize = (30,15))\n",
    "sns.barplot(data = ecom, x = 'Channel', y = 'Sales')"
   ]
  },
  {
   "cell_type": "markdown",
   "metadata": {},
   "source": [
    "The above bar graph shows us the trends between the Channel and the Sales. We can observe from the graph that the Store channel has the highest number of sales followed by SEO which is the second largest generator for the sales. Whereas, Organic Social has the lowest number of sales which is little surprising."
   ]
  },
  {
   "cell_type": "code",
   "execution_count": 158,
   "metadata": {},
   "outputs": [
    {
     "data": {
      "text/plain": [
       "<matplotlib.axes._subplots.AxesSubplot at 0x7fbf206ab510>"
      ]
     },
     "execution_count": 158,
     "metadata": {},
     "output_type": "execute_result"
    },
    {
     "data": {
      "image/png": "[encoded data removed]",
      "text/plain": [
       "<Figure size 2160x1080 with 1 Axes>"
      ]
     },
     "metadata": {
      "needs_background": "light"
     },
     "output_type": "display_data"
    }
   ],
   "source": [
    "# I am plotting this bargraph to visualize the data between Sales and Invoice Day columns.\n",
    "ecom['InvoiceDay'] = pd.to_datetime(ecom['InvoiceDay'])\n",
    "df1 = ecom.groupby(df['InvoiceDay'].dt.to_period('M'))['Sales'].sum()\n",
    "df1 = df1.resample('M').asfreq().fillna(0)\n",
    "df1.plot(kind='bar',figsize = (30,15))"
   ]
  },
  {
   "cell_type": "markdown",
   "metadata": {},
   "source": [
    "The above bargraph shows us the trends between the Invoice day and the sales. We can observe from the graph that for the November month the sales are the highest with >4000000 of sales  and lowest for the month of December at ~1500000. "
   ]
  },
  {
   "cell_type": "code",
   "execution_count": 257,
   "metadata": {},
   "outputs": [
    {
     "data": {
      "text/plain": [
       "<matplotlib.axes._subplots.AxesSubplot at 0x7fbf35f8d710>"
      ]
     },
     "execution_count": 257,
     "metadata": {},
     "output_type": "execute_result"
    },
    {
     "data": {
      "image/png": "[encoded data removed]",
      "text/plain": [
       "<Figure size 1440x720 with 1 Axes>"
      ]
     },
     "metadata": {
      "needs_background": "light"
     },
     "output_type": "display_data"
    }
   ],
   "source": [
    "fig_dims = (20, 10)\n",
    "fig, ax = plt.subplots(figsize=fig_dims)\n",
    "sns.distplot(ecom['Sales'])"
   ]
  },
  {
   "cell_type": "markdown",
   "metadata": {},
   "source": [
    "I am plotting the above distplot of my sales just to analyze the trend of my sales.From the plot I analysed that the sales are within the -50000 and 50000 and the highest peak in the sales is at 0.00030. We can observe that the sales are fluctuating and are constantly showing ups and downs."
   ]
  },
  {
   "cell_type": "markdown",
   "metadata": {},
   "source": [
    "### Create a column which tracks the number of non-refunded orders made by a customer in a rolling 90-day window."
   ]
  },
  {
   "cell_type": "code",
   "execution_count": 159,
   "metadata": {},
   "outputs": [],
   "source": [
    "ecom['InvoiceDay'] = pd.to_datetime(ecom['InvoiceDay'])"
   ]
  },
  {
   "cell_type": "code",
   "execution_count": 44,
   "metadata": {},
   "outputs": [],
   "source": [
    "ecom = ecom.set_index('InvoiceDay')"
   ]
  },
  {
   "cell_type": "code",
   "execution_count": 45,
   "metadata": {},
   "outputs": [],
   "source": [
    "ecom = ecom.sort_index()"
   ]
  },
  {
   "cell_type": "code",
   "execution_count": 56,
   "metadata": {},
   "outputs": [
    {
     "data": {
      "text/html": [
       "<div>\n",
       "<style scoped>\n",
       "    .dataframe tbody tr th:only-of-type {\n",
       "        vertical-align: middle;\n",
       "    }\n",
       "\n",
       "    .dataframe tbody tr th {\n",
       "        vertical-align: top;\n",
       "    }\n",
       "\n",
       "    .dataframe thead th {\n",
       "        text-align: right;\n",
       "    }\n",
       "</style>\n",
       "<table border=\"1\" class=\"dataframe\">\n",
       "  <thead>\n",
       "    <tr style=\"text-align: right;\">\n",
       "      <th></th>\n",
       "      <th>CustomerID</th>\n",
       "      <th>InvoiceDay</th>\n",
       "      <th>SalesOrder</th>\n",
       "    </tr>\n",
       "  </thead>\n",
       "  <tbody>\n",
       "    <tr>\n",
       "      <td>0</td>\n",
       "      <td>12347.0</td>\n",
       "      <td>2010-12-07</td>\n",
       "      <td>1.0</td>\n",
       "    </tr>\n",
       "    <tr>\n",
       "      <td>1</td>\n",
       "      <td>12347.0</td>\n",
       "      <td>2010-12-07</td>\n",
       "      <td>2.0</td>\n",
       "    </tr>\n",
       "    <tr>\n",
       "      <td>2</td>\n",
       "      <td>12347.0</td>\n",
       "      <td>2010-12-07</td>\n",
       "      <td>3.0</td>\n",
       "    </tr>\n",
       "    <tr>\n",
       "      <td>3</td>\n",
       "      <td>12347.0</td>\n",
       "      <td>2010-12-07</td>\n",
       "      <td>4.0</td>\n",
       "    </tr>\n",
       "    <tr>\n",
       "      <td>4</td>\n",
       "      <td>12347.0</td>\n",
       "      <td>2010-12-07</td>\n",
       "      <td>5.0</td>\n",
       "    </tr>\n",
       "    <tr>\n",
       "      <td>...</td>\n",
       "      <td>...</td>\n",
       "      <td>...</td>\n",
       "      <td>...</td>\n",
       "    </tr>\n",
       "    <tr>\n",
       "      <td>397848</td>\n",
       "      <td>18287.0</td>\n",
       "      <td>2011-10-12</td>\n",
       "      <td>33.0</td>\n",
       "    </tr>\n",
       "    <tr>\n",
       "      <td>397849</td>\n",
       "      <td>18287.0</td>\n",
       "      <td>2011-10-12</td>\n",
       "      <td>34.0</td>\n",
       "    </tr>\n",
       "    <tr>\n",
       "      <td>397850</td>\n",
       "      <td>18287.0</td>\n",
       "      <td>2011-10-28</td>\n",
       "      <td>35.0</td>\n",
       "    </tr>\n",
       "    <tr>\n",
       "      <td>397851</td>\n",
       "      <td>18287.0</td>\n",
       "      <td>2011-10-28</td>\n",
       "      <td>36.0</td>\n",
       "    </tr>\n",
       "    <tr>\n",
       "      <td>397852</td>\n",
       "      <td>18287.0</td>\n",
       "      <td>2011-10-28</td>\n",
       "      <td>37.0</td>\n",
       "    </tr>\n",
       "  </tbody>\n",
       "</table>\n",
       "<p>397853 rows × 3 columns</p>\n",
       "</div>"
      ],
      "text/plain": [
       "        CustomerID InvoiceDay  SalesOrder\n",
       "0          12347.0 2010-12-07         1.0\n",
       "1          12347.0 2010-12-07         2.0\n",
       "2          12347.0 2010-12-07         3.0\n",
       "3          12347.0 2010-12-07         4.0\n",
       "4          12347.0 2010-12-07         5.0\n",
       "...            ...        ...         ...\n",
       "397848     18287.0 2011-10-12        33.0\n",
       "397849     18287.0 2011-10-12        34.0\n",
       "397850     18287.0 2011-10-28        35.0\n",
       "397851     18287.0 2011-10-28        36.0\n",
       "397852     18287.0 2011-10-28        37.0\n",
       "\n",
       "[397853 rows x 3 columns]"
      ]
     },
     "execution_count": 56,
     "metadata": {},
     "output_type": "execute_result"
    }
   ],
   "source": [
    "ecom[ecom['Sales'] >0].groupby(['CustomerID'])['SalesOrder'].rolling('90d').count().reset_index()"
   ]
  },
  {
   "cell_type": "markdown",
   "metadata": {},
   "source": [
    "### Create a daily sales forecast by channel for the next 90 days."
   ]
  },
  {
   "cell_type": "code",
   "execution_count": 40,
   "metadata": {},
   "outputs": [
    {
     "data": {
      "text/plain": [
       "Store             142005\n",
       "Organic Social    121971\n",
       "SEO                81946\n",
       "Email              36576\n",
       "Mailing            20361\n",
       "Display             3970\n",
       "Name: Channel, dtype: int64"
      ]
     },
     "execution_count": 40,
     "metadata": {},
     "output_type": "execute_result"
    }
   ],
   "source": [
    "# value_counts() returns a Series containing counts of unique values.\n",
    "ecom['Channel'].value_counts()"
   ]
  },
  {
   "cell_type": "code",
   "execution_count": 55,
   "metadata": {},
   "outputs": [
    {
     "data": {
      "text/html": [
       "<div>\n",
       "<style scoped>\n",
       "    .dataframe tbody tr th:only-of-type {\n",
       "        vertical-align: middle;\n",
       "    }\n",
       "\n",
       "    .dataframe tbody tr th {\n",
       "        vertical-align: top;\n",
       "    }\n",
       "\n",
       "    .dataframe thead th {\n",
       "        text-align: right;\n",
       "    }\n",
       "</style>\n",
       "<table border=\"1\" class=\"dataframe\">\n",
       "  <thead>\n",
       "    <tr style=\"text-align: right;\">\n",
       "      <th></th>\n",
       "      <th>Channel</th>\n",
       "      <th>InvoiceDay</th>\n",
       "      <th>Sales</th>\n",
       "    </tr>\n",
       "  </thead>\n",
       "  <tbody>\n",
       "    <tr>\n",
       "      <td>0</td>\n",
       "      <td>Display</td>\n",
       "      <td>2010-12-01</td>\n",
       "      <td>61.20</td>\n",
       "    </tr>\n",
       "    <tr>\n",
       "      <td>1</td>\n",
       "      <td>Display</td>\n",
       "      <td>2010-12-01</td>\n",
       "      <td>61.20</td>\n",
       "    </tr>\n",
       "    <tr>\n",
       "      <td>2</td>\n",
       "      <td>Display</td>\n",
       "      <td>2010-12-01</td>\n",
       "      <td>86.20</td>\n",
       "    </tr>\n",
       "    <tr>\n",
       "      <td>3</td>\n",
       "      <td>Display</td>\n",
       "      <td>2010-12-01</td>\n",
       "      <td>93.70</td>\n",
       "    </tr>\n",
       "    <tr>\n",
       "      <td>4</td>\n",
       "      <td>Display</td>\n",
       "      <td>2010-12-01</td>\n",
       "      <td>93.70</td>\n",
       "    </tr>\n",
       "    <tr>\n",
       "      <td>...</td>\n",
       "      <td>...</td>\n",
       "      <td>...</td>\n",
       "      <td>...</td>\n",
       "    </tr>\n",
       "    <tr>\n",
       "      <td>406824</td>\n",
       "      <td>Store</td>\n",
       "      <td>2011-12-09</td>\n",
       "      <td>9033408.43</td>\n",
       "    </tr>\n",
       "    <tr>\n",
       "      <td>406825</td>\n",
       "      <td>Store</td>\n",
       "      <td>2011-12-09</td>\n",
       "      <td>9033526.29</td>\n",
       "    </tr>\n",
       "    <tr>\n",
       "      <td>406826</td>\n",
       "      <td>Store</td>\n",
       "      <td>2011-12-09</td>\n",
       "      <td>9033665.59</td>\n",
       "    </tr>\n",
       "    <tr>\n",
       "      <td>406827</td>\n",
       "      <td>Store</td>\n",
       "      <td>2011-12-09</td>\n",
       "      <td>9033771.84</td>\n",
       "    </tr>\n",
       "    <tr>\n",
       "      <td>406828</td>\n",
       "      <td>Store</td>\n",
       "      <td>2011-12-09</td>\n",
       "      <td>9033878.09</td>\n",
       "    </tr>\n",
       "  </tbody>\n",
       "</table>\n",
       "<p>406829 rows × 3 columns</p>\n",
       "</div>"
      ],
      "text/plain": [
       "        Channel InvoiceDay       Sales\n",
       "0       Display 2010-12-01       61.20\n",
       "1       Display 2010-12-01       61.20\n",
       "2       Display 2010-12-01       86.20\n",
       "3       Display 2010-12-01       93.70\n",
       "4       Display 2010-12-01       93.70\n",
       "...         ...        ...         ...\n",
       "406824    Store 2011-12-09  9033408.43\n",
       "406825    Store 2011-12-09  9033526.29\n",
       "406826    Store 2011-12-09  9033665.59\n",
       "406827    Store 2011-12-09  9033771.84\n",
       "406828    Store 2011-12-09  9033878.09\n",
       "\n",
       "[406829 rows x 3 columns]"
      ]
     },
     "execution_count": 55,
     "metadata": {},
     "output_type": "execute_result"
    }
   ],
   "source": [
    "# reset_index() returns new DataFrame with labeling information in the columns under the index names, defaulting to \n",
    "#‘level_0’, ‘level_1’, etc. if any are None.\n",
    "\n",
    "ecom.groupby(['Channel'])['Sales'].rolling('90d').sum().reset_index()"
   ]
  },
  {
   "cell_type": "code",
   "execution_count": 108,
   "metadata": {},
   "outputs": [],
   "source": [
    "# storing the value of the dataframe in a new dataframe sale.\n",
    "sale = ecom.groupby(['Channel'])['Sales'].rolling('90d').sum().reset_index()"
   ]
  },
  {
   "cell_type": "markdown",
   "metadata": {},
   "source": [
    "One method is to get the difference in sales compared to the previous month and build the model on it:"
   ]
  },
  {
   "cell_type": "code",
   "execution_count": 109,
   "metadata": {},
   "outputs": [],
   "source": [
    "## add previous sales to the next row\n",
    "sale['prev_sales'] = sale['Sales'].shift(3)\n",
    "\n",
    "#drop the null values and calculate the difference\n",
    "sale = sale.dropna()\n",
    "sale['diff'] = (sale['Sales'] - sale['prev_sales'])"
   ]
  },
  {
   "cell_type": "code",
   "execution_count": 110,
   "metadata": {},
   "outputs": [
    {
     "data": {
      "text/html": [
       "<div>\n",
       "<style scoped>\n",
       "    .dataframe tbody tr th:only-of-type {\n",
       "        vertical-align: middle;\n",
       "    }\n",
       "\n",
       "    .dataframe tbody tr th {\n",
       "        vertical-align: top;\n",
       "    }\n",
       "\n",
       "    .dataframe thead th {\n",
       "        text-align: right;\n",
       "    }\n",
       "</style>\n",
       "<table border=\"1\" class=\"dataframe\">\n",
       "  <thead>\n",
       "    <tr style=\"text-align: right;\">\n",
       "      <th></th>\n",
       "      <th>Channel</th>\n",
       "      <th>InvoiceDay</th>\n",
       "      <th>Sales</th>\n",
       "      <th>prev_sales</th>\n",
       "      <th>diff</th>\n",
       "    </tr>\n",
       "  </thead>\n",
       "  <tbody>\n",
       "    <tr>\n",
       "      <td>3</td>\n",
       "      <td>Display</td>\n",
       "      <td>2010-12-01</td>\n",
       "      <td>93.7</td>\n",
       "      <td>61.2</td>\n",
       "      <td>32.5</td>\n",
       "    </tr>\n",
       "    <tr>\n",
       "      <td>4</td>\n",
       "      <td>Display</td>\n",
       "      <td>2010-12-01</td>\n",
       "      <td>93.7</td>\n",
       "      <td>61.2</td>\n",
       "      <td>32.5</td>\n",
       "    </tr>\n",
       "    <tr>\n",
       "      <td>5</td>\n",
       "      <td>Display</td>\n",
       "      <td>2010-12-01</td>\n",
       "      <td>108.7</td>\n",
       "      <td>86.2</td>\n",
       "      <td>22.5</td>\n",
       "    </tr>\n",
       "    <tr>\n",
       "      <td>6</td>\n",
       "      <td>Display</td>\n",
       "      <td>2010-12-01</td>\n",
       "      <td>133.7</td>\n",
       "      <td>93.7</td>\n",
       "      <td>40.0</td>\n",
       "    </tr>\n",
       "    <tr>\n",
       "      <td>7</td>\n",
       "      <td>Display</td>\n",
       "      <td>2010-12-01</td>\n",
       "      <td>133.7</td>\n",
       "      <td>93.7</td>\n",
       "      <td>40.0</td>\n",
       "    </tr>\n",
       "  </tbody>\n",
       "</table>\n",
       "</div>"
      ],
      "text/plain": [
       "   Channel InvoiceDay  Sales  prev_sales  diff\n",
       "3  Display 2010-12-01   93.7        61.2  32.5\n",
       "4  Display 2010-12-01   93.7        61.2  32.5\n",
       "5  Display 2010-12-01  108.7        86.2  22.5\n",
       "6  Display 2010-12-01  133.7        93.7  40.0\n",
       "7  Display 2010-12-01  133.7        93.7  40.0"
      ]
     },
     "execution_count": 110,
     "metadata": {},
     "output_type": "execute_result"
    }
   ],
   "source": [
    "# Now we have the required dataframe for modeling the difference:\n",
    "sale.head()"
   ]
  },
  {
   "cell_type": "code",
   "execution_count": 113,
   "metadata": {},
   "outputs": [
    {
     "data": {
      "text/plain": [
       "Index(['Channel', 'InvoiceDay', 'Sales', 'prev_sales', 'diff'], dtype='object')"
      ]
     },
     "execution_count": 113,
     "metadata": {},
     "output_type": "execute_result"
    }
   ],
   "source": [
    "sale.columns"
   ]
  },
  {
   "cell_type": "markdown",
   "metadata": {},
   "source": [
    "Now we can start building our feature set. We will use the previous monthly sales data to forecast the next ones. The look-back period may vary for every model and we will take ours as 12.\n",
    "\n",
    "So, I am creating columns from lag_1 to lag_12 and assign values by using shift() method."
   ]
  },
  {
   "cell_type": "code",
   "execution_count": 120,
   "metadata": {},
   "outputs": [],
   "source": [
    "sale_supervised = sale.drop(['prev_sales'],axis=1)\n",
    "#adding lags\n",
    "for inc in range(1,13):\n",
    "    field_name = 'lag_' + str(inc)\n",
    "    sale_supervised[field_name] = sale_supervised['diff'].shift(inc)\n",
    "#drop null values\n",
    "sale_supervised = sale_supervised.dropna().reset_index(drop=True)"
   ]
  },
  {
   "cell_type": "code",
   "execution_count": 160,
   "metadata": {},
   "outputs": [
    {
     "data": {
      "text/html": [
       "<div>\n",
       "<style scoped>\n",
       "    .dataframe tbody tr th:only-of-type {\n",
       "        vertical-align: middle;\n",
       "    }\n",
       "\n",
       "    .dataframe tbody tr th {\n",
       "        vertical-align: top;\n",
       "    }\n",
       "\n",
       "    .dataframe thead th {\n",
       "        text-align: right;\n",
       "    }\n",
       "</style>\n",
       "<table border=\"1\" class=\"dataframe\">\n",
       "  <thead>\n",
       "    <tr style=\"text-align: right;\">\n",
       "      <th></th>\n",
       "      <th>Channel</th>\n",
       "      <th>InvoiceDay</th>\n",
       "      <th>Sales</th>\n",
       "      <th>diff</th>\n",
       "      <th>lag_1</th>\n",
       "      <th>lag_2</th>\n",
       "      <th>lag_3</th>\n",
       "      <th>lag_4</th>\n",
       "      <th>lag_5</th>\n",
       "      <th>lag_6</th>\n",
       "      <th>lag_7</th>\n",
       "      <th>lag_8</th>\n",
       "      <th>lag_9</th>\n",
       "      <th>lag_10</th>\n",
       "      <th>lag_11</th>\n",
       "      <th>lag_12</th>\n",
       "    </tr>\n",
       "  </thead>\n",
       "  <tbody>\n",
       "    <tr>\n",
       "      <td>0</td>\n",
       "      <td>Display</td>\n",
       "      <td>2010-12-01</td>\n",
       "      <td>331.35</td>\n",
       "      <td>26.25</td>\n",
       "      <td>131.00</td>\n",
       "      <td>135.20</td>\n",
       "      <td>110.20</td>\n",
       "      <td>65.40</td>\n",
       "      <td>61.2</td>\n",
       "      <td>61.2</td>\n",
       "      <td>25.0</td>\n",
       "      <td>40.0</td>\n",
       "      <td>40.0</td>\n",
       "      <td>22.5</td>\n",
       "      <td>32.5</td>\n",
       "      <td>32.5</td>\n",
       "    </tr>\n",
       "    <tr>\n",
       "      <td>1</td>\n",
       "      <td>Display</td>\n",
       "      <td>2010-12-01</td>\n",
       "      <td>338.85</td>\n",
       "      <td>8.75</td>\n",
       "      <td>26.25</td>\n",
       "      <td>131.00</td>\n",
       "      <td>135.20</td>\n",
       "      <td>110.20</td>\n",
       "      <td>65.4</td>\n",
       "      <td>61.2</td>\n",
       "      <td>61.2</td>\n",
       "      <td>25.0</td>\n",
       "      <td>40.0</td>\n",
       "      <td>40.0</td>\n",
       "      <td>22.5</td>\n",
       "      <td>32.5</td>\n",
       "    </tr>\n",
       "    <tr>\n",
       "      <td>2</td>\n",
       "      <td>Display</td>\n",
       "      <td>2010-12-01</td>\n",
       "      <td>453.33</td>\n",
       "      <td>123.23</td>\n",
       "      <td>8.75</td>\n",
       "      <td>26.25</td>\n",
       "      <td>131.00</td>\n",
       "      <td>135.20</td>\n",
       "      <td>110.2</td>\n",
       "      <td>65.4</td>\n",
       "      <td>61.2</td>\n",
       "      <td>61.2</td>\n",
       "      <td>25.0</td>\n",
       "      <td>40.0</td>\n",
       "      <td>40.0</td>\n",
       "      <td>22.5</td>\n",
       "    </tr>\n",
       "    <tr>\n",
       "      <td>3</td>\n",
       "      <td>Display</td>\n",
       "      <td>2010-12-01</td>\n",
       "      <td>460.83</td>\n",
       "      <td>129.48</td>\n",
       "      <td>123.23</td>\n",
       "      <td>8.75</td>\n",
       "      <td>26.25</td>\n",
       "      <td>131.00</td>\n",
       "      <td>135.2</td>\n",
       "      <td>110.2</td>\n",
       "      <td>65.4</td>\n",
       "      <td>61.2</td>\n",
       "      <td>61.2</td>\n",
       "      <td>25.0</td>\n",
       "      <td>40.0</td>\n",
       "      <td>40.0</td>\n",
       "    </tr>\n",
       "    <tr>\n",
       "      <td>4</td>\n",
       "      <td>Display</td>\n",
       "      <td>2010-12-01</td>\n",
       "      <td>485.83</td>\n",
       "      <td>146.98</td>\n",
       "      <td>129.48</td>\n",
       "      <td>123.23</td>\n",
       "      <td>8.75</td>\n",
       "      <td>26.25</td>\n",
       "      <td>131.0</td>\n",
       "      <td>135.2</td>\n",
       "      <td>110.2</td>\n",
       "      <td>65.4</td>\n",
       "      <td>61.2</td>\n",
       "      <td>61.2</td>\n",
       "      <td>25.0</td>\n",
       "      <td>40.0</td>\n",
       "    </tr>\n",
       "  </tbody>\n",
       "</table>\n",
       "</div>"
      ],
      "text/plain": [
       "   Channel InvoiceDay   Sales    diff   lag_1   lag_2   lag_3   lag_4  lag_5  \\\n",
       "0  Display 2010-12-01  331.35   26.25  131.00  135.20  110.20   65.40   61.2   \n",
       "1  Display 2010-12-01  338.85    8.75   26.25  131.00  135.20  110.20   65.4   \n",
       "2  Display 2010-12-01  453.33  123.23    8.75   26.25  131.00  135.20  110.2   \n",
       "3  Display 2010-12-01  460.83  129.48  123.23    8.75   26.25  131.00  135.2   \n",
       "4  Display 2010-12-01  485.83  146.98  129.48  123.23    8.75   26.25  131.0   \n",
       "\n",
       "   lag_6  lag_7  lag_8  lag_9  lag_10  lag_11  lag_12  \n",
       "0   61.2   25.0   40.0   40.0    22.5    32.5    32.5  \n",
       "1   61.2   61.2   25.0   40.0    40.0    22.5    32.5  \n",
       "2   65.4   61.2   61.2   25.0    40.0    40.0    22.5  \n",
       "3  110.2   65.4   61.2   61.2    25.0    40.0    40.0  \n",
       "4  135.2  110.2   65.4   61.2    61.2    25.0    40.0  "
      ]
     },
     "execution_count": 160,
     "metadata": {},
     "output_type": "execute_result"
    }
   ],
   "source": [
    "# Let us check out our new dataframe called sale_supervised:\n",
    "sale_supervised.head()"
   ]
  },
  {
   "cell_type": "markdown",
   "metadata": {},
   "source": [
    "### LINEAR REGRESSION"
   ]
  },
  {
   "cell_type": "markdown",
   "metadata": {},
   "source": [
    "We have our feature set now and let us check how useful are our features for prediction?\n",
    "\n",
    "I am calculating the Adjusted R-squared to check becuase it tells us how good our features explain the variation in our label (lag_1 to lag_12 for diff)."
   ]
  },
  {
   "cell_type": "code",
   "execution_count": 122,
   "metadata": {},
   "outputs": [
    {
     "name": "stdout",
     "output_type": "stream",
     "text": [
      "0.4444852308709156\n"
     ]
    }
   ],
   "source": [
    "import statsmodels.formula.api as smf\n",
    "\n",
    "# Define the regression formula\n",
    "model = smf.ols(formula='diff ~ lag_1', data=sale_supervised)\n",
    "\n",
    "# Fit the regression\n",
    "model_fit = model.fit()\n",
    "\n",
    "# Extract the adjusted r-squared\n",
    "regression_adj_rsq = model_fit.rsquared_adj\n",
    "\n",
    "print(regression_adj_rsq)"
   ]
  },
  {
   "cell_type": "markdown",
   "metadata": {},
   "source": [
    "For the linear regression, we are using OLS or Ordinary-Least-Square function because it provides us with the full blown statistical information about the estimation process.\n",
    "\n",
    "We fit a linear regression model (OLS — Ordinary Least Squares) and calculate the Adjusted R-squared. For the example above, we just used lag_1 to see how much it explains the variation in column diff.\n",
    "\n"
   ]
  },
  {
   "cell_type": "code",
   "execution_count": 123,
   "metadata": {},
   "outputs": [
    {
     "name": "stdout",
     "output_type": "stream",
     "text": [
      "0.5959718418620965\n"
     ]
    }
   ],
   "source": [
    "model = smf.ols(formula='diff ~ lag_1+lag_2+lag_3+lag_4+lag_5+lag_6+lag_7+lag_8', data=sale_supervised)\n",
    "\n",
    "model_fit = model.fit()\n",
    "regression_adj_rsq = model_fit.rsquared_adj\n",
    "print(regression_adj_rsq)"
   ]
  },
  {
   "cell_type": "code",
   "execution_count": 124,
   "metadata": {},
   "outputs": [
    {
     "name": "stdout",
     "output_type": "stream",
     "text": [
      "0.6154858330561841\n"
     ]
    }
   ],
   "source": [
    "# Adding four more features\n",
    "\n",
    "model = smf.ols(formula='diff ~ lag_1+lag_2+lag_3+lag_4+lag_5+lag_6+lag_7+lag_8+lag_9+lag_10+lag_11+lag_12', data=sale_supervised)\n",
    "\n",
    "model_fit = model.fit()\n",
    "regression_adj_rsq = model_fit.rsquared_adj\n",
    "print(regression_adj_rsq)"
   ]
  },
  {
   "cell_type": "markdown",
   "metadata": {},
   "source": [
    "I am spliting our data into train and test sets. As the test set, I have selected the last 6 months sales.\n"
   ]
  },
  {
   "cell_type": "code",
   "execution_count": 127,
   "metadata": {},
   "outputs": [],
   "source": [
    "from sklearn.preprocessing import MinMaxScaler\n",
    "df_model = sale_supervised.drop(['Sales','InvoiceDay', 'Channel'],axis=1)\n",
    "\n",
    "#split train and test set\n",
    "train_set, test_set = df_model[0:-6].values, df_model[-6:].values"
   ]
  },
  {
   "cell_type": "markdown",
   "metadata": {},
   "source": [
    "As the scaler, we are going to use MinMaxScaler, which will scale each future between -1 and 1:"
   ]
  },
  {
   "cell_type": "code",
   "execution_count": 128,
   "metadata": {},
   "outputs": [],
   "source": [
    "# Apply Min Max Scaler\n",
    "scaler = MinMaxScaler(feature_range=(-1, 1))\n",
    "scaler = scaler.fit(train_set)\n",
    "\n",
    "# reshape training set\n",
    "train_set = train_set.reshape(train_set.shape[0], train_set.shape[1])\n",
    "train_set_scaled = scaler.transform(train_set)\n",
    "\n",
    "# reshape test set\n",
    "test_set = test_set.reshape(test_set.shape[0], test_set.shape[1])\n",
    "test_set_scaled = scaler.transform(test_set)"
   ]
  },
  {
   "cell_type": "markdown",
   "metadata": {},
   "source": [
    "### LSTM"
   ]
  },
  {
   "cell_type": "code",
   "execution_count": 129,
   "metadata": {},
   "outputs": [],
   "source": [
    "# I am creating feature and label sets from scaled datasets: \n",
    "\n",
    "X_train, y_train = train_set_scaled[:, 1:], train_set_scaled[:, 0:1]\n",
    "X_train = X_train.reshape(X_train.shape[0], 1, X_train.shape[1])\n",
    "\n",
    "X_test, y_test = test_set_scaled[:, 1:], test_set_scaled[:, 0:1]\n",
    "X_test = X_test.reshape(X_test.shape[0], 1, X_test.shape[1])"
   ]
  },
  {
   "cell_type": "code",
   "execution_count": 144,
   "metadata": {},
   "outputs": [
    {
     "data": {
      "text/plain": [
       "(6, 1, 12)"
      ]
     },
     "execution_count": 144,
     "metadata": {},
     "output_type": "execute_result"
    }
   ],
   "source": [
    "X_test.shape"
   ]
  },
  {
   "cell_type": "code",
   "execution_count": 136,
   "metadata": {},
   "outputs": [],
   "source": [
    "#import Keras\n",
    "import keras\n",
    "from keras.layers import Dense\n",
    "from keras.models import Sequential\n",
    "from keras.optimizers import Adam \n",
    "from keras.callbacks import EarlyStopping\n",
    "from keras.utils import np_utils\n",
    "from keras.layers import LSTM\n",
    "from sklearn.model_selection import KFold, cross_val_score, train_test_split"
   ]
  },
  {
   "cell_type": "markdown",
   "metadata": {},
   "source": [
    "The code block below prints how the model improves itself and reduce the error in each epoch"
   ]
  },
  {
   "cell_type": "code",
   "execution_count": 139,
   "metadata": {},
   "outputs": [
    {
     "name": "stdout",
     "output_type": "stream",
     "text": [
      "Epoch 1/10\n",
      "406808/406808 [==============================] - 443s 1ms/step - loss: 0.0017\n",
      "Epoch 2/10\n",
      "406808/406808 [==============================] - 520s 1ms/step - loss: 2.0872e-05\n",
      "Epoch 3/10\n",
      "406808/406808 [==============================] - 484s 1ms/step - loss: 2.0871e-05\n",
      "Epoch 4/10\n",
      "406808/406808 [==============================] - 631s 2ms/step - loss: 2.0873e-05\n",
      "Epoch 5/10\n",
      "406808/406808 [==============================] - 457s 1ms/step - loss: 2.0883e-05\n",
      "Epoch 6/10\n",
      "406808/406808 [==============================] - 469s 1ms/step - loss: 2.0875e-05\n",
      "Epoch 7/10\n",
      "406808/406808 [==============================] - 518s 1ms/step - loss: 2.0894e-05\n",
      "Epoch 8/10\n",
      "406808/406808 [==============================] - 512s 1ms/step - loss: 2.0919e-05\n",
      "Epoch 9/10\n",
      "406808/406808 [==============================] - 519s 1ms/step - loss: 2.0949e-05\n",
      "Epoch 10/10\n",
      "406808/406808 [==============================] - 483s 1ms/step - loss: 2.0991e-05\n"
     ]
    },
    {
     "data": {
      "text/plain": [
       "<keras.callbacks.History at 0x7fbf2082e2d0>"
      ]
     },
     "execution_count": 139,
     "metadata": {},
     "output_type": "execute_result"
    }
   ],
   "source": [
    "# Fit our LSTM model:\n",
    "\n",
    "model = Sequential()\n",
    "model.add(LSTM(4, batch_input_shape=(1, X_train.shape[1], X_train.shape[2]), stateful=True))\n",
    "model.add(Dense(1))\n",
    "model.compile(loss='mean_squared_error', optimizer='adam')\n",
    "model.fit(X_train, y_train, epochs=10, batch_size=1, verbose=1, shuffle=False)"
   ]
  },
  {
   "cell_type": "markdown",
   "metadata": {},
   "source": [
    "Let’s do the prediction and see how the results look like"
   ]
  },
  {
   "cell_type": "code",
   "execution_count": 140,
   "metadata": {},
   "outputs": [],
   "source": [
    "y_pred = model.predict(X_test,batch_size=1)"
   ]
  },
  {
   "cell_type": "code",
   "execution_count": 141,
   "metadata": {},
   "outputs": [
    {
     "data": {
      "text/plain": [
       "array([[0.9143236 ],\n",
       "       [0.9143236 ],\n",
       "       [0.9143235 ],\n",
       "       [0.9143234 ],\n",
       "       [0.91432345],\n",
       "       [0.9143234 ]], dtype=float32)"
      ]
     },
     "execution_count": 141,
     "metadata": {},
     "output_type": "execute_result"
    }
   ],
   "source": [
    "y_pred"
   ]
  },
  {
   "cell_type": "code",
   "execution_count": 142,
   "metadata": {},
   "outputs": [
    {
     "data": {
      "text/plain": [
       "array([[0.91505056],\n",
       "       [0.9151262 ],\n",
       "       [0.91512385],\n",
       "       [0.91515042],\n",
       "       [0.91498694],\n",
       "       [0.9149792 ]])"
      ]
     },
     "execution_count": 142,
     "metadata": {},
     "output_type": "execute_result"
    }
   ],
   "source": [
    "y_test"
   ]
  },
  {
   "cell_type": "markdown",
   "metadata": {},
   "source": [
    "I will perform the inverse transformation below for scaling to see the actual sales predictions because the previous results look similar but it doesn’t tell us much because these are scaled data that shows the difference."
   ]
  },
  {
   "cell_type": "code",
   "execution_count": 211,
   "metadata": {},
   "outputs": [
    {
     "name": "stdout",
     "output_type": "stream",
     "text": [
      "[[0.91432363 0.91504696 0.91564043 0.91571977 0.91460841 0.91394171\n",
      "  0.91375185 0.91494333 0.91500646 0.91521482 0.91515293 0.91514034\n",
      "  0.91491532]]\n",
      "[[0.91432363 0.91505056 0.91504696 0.91564043 0.91571977 0.91460841\n",
      "  0.91394171 0.91375185 0.91494333 0.91500646 0.91521482 0.91515293\n",
      "  0.91514034]]\n",
      "[[0.91432351 0.9151262  0.91505056 0.91504696 0.91564043 0.91571977\n",
      "  0.91460841 0.91394171 0.91375185 0.91494333 0.91500646 0.91521482\n",
      "  0.91515293]]\n",
      "[[0.91432339 0.91512385 0.9151262  0.91505056 0.91504696 0.91564043\n",
      "  0.91571977 0.91460841 0.91394171 0.91375185 0.91494333 0.91500646\n",
      "  0.91521482]]\n",
      "[[0.91432345 0.91515042 0.91512385 0.9151262  0.91505056 0.91504696\n",
      "  0.91564043 0.91571977 0.91460841 0.91394171 0.91375185 0.91494333\n",
      "  0.91500646]]\n",
      "[[0.91432339 0.91498694 0.91515042 0.91512385 0.9151262  0.91505056\n",
      "  0.91504696 0.91564043 0.91571977 0.91460841 0.91394171 0.91375185\n",
      "  0.91494333]]\n"
     ]
    }
   ],
   "source": [
    "y_pred = y_pred.reshape(y_pred.shape[0], 1, y_pred.shape[1])\n",
    "\n",
    "#rebuild test set for inverse transform\n",
    "pred_test_set = []\n",
    "for index in range(0,len(y_pred)):\n",
    "    print (np.concatenate([y_pred[index],X_test[index]],axis=1))\n",
    "    pred_test_set.append(np.concatenate([y_pred[index],X_test[index]],axis=1))\n",
    "\n",
    "#reshape pred_test_set\n",
    "pred_test_set = np.array(pred_test_set)\n",
    "pred_test_set = pred_test_set.reshape(pred_test_set.shape[0], pred_test_set.shape[2])\n",
    "\n",
    "#inverse transform\n",
    "pred_test_set_inverted = scaler.inverse_transform(pred_test_set)"
   ]
  },
  {
   "cell_type": "code",
   "execution_count": 220,
   "metadata": {},
   "outputs": [],
   "source": [
    "dates_category = sale.groupby('Channel').agg({'InvoiceDay': max, 'Channel' : 'max'})"
   ]
  },
  {
   "cell_type": "code",
   "execution_count": 221,
   "metadata": {},
   "outputs": [],
   "source": [
    "dates_category['InvoiceDay']  = pd.to_datetime(dates_category['InvoiceDay'])"
   ]
  },
  {
   "cell_type": "code",
   "execution_count": 232,
   "metadata": {},
   "outputs": [],
   "source": [
    "sales_dates = []\n",
    "act_sales = []\n",
    "for index, row in dates_category.iterrows():\n",
    "    act_sales.append(sale[(sale['Channel'] == row['Channel']) & (sale['InvoiceDay'] == row['InvoiceDay'])]['Sales'].sum())\n",
    "    sales_dates.append(row['InvoiceDay'])"
   ]
  },
  {
   "cell_type": "markdown",
   "metadata": {},
   "source": [
    "We need to build the dataframe has the dates and the predictions. Transformed predictions are showing the difference. We should calculate the predicted sales numbers.\n"
   ]
  },
  {
   "cell_type": "code",
   "execution_count": 236,
   "metadata": {},
   "outputs": [],
   "source": [
    "result_list = []\n",
    "for index in range(0,len(pred_test_set_inverted)-1):\n",
    "    result_dict = {}\n",
    "    result_dict['pred_value'] = int(pred_test_set_inverted[index][0] + act_sales[index])\n",
    "    result_dict['date'] = sales_dates[index+1]\n",
    "    result_list.append(result_dict)\n",
    "df_result = pd.DataFrame(result_list)"
   ]
  },
  {
   "cell_type": "code",
   "execution_count": 240,
   "metadata": {},
   "outputs": [
    {
     "data": {
      "text/html": [
       "<div>\n",
       "<style scoped>\n",
       "    .dataframe tbody tr th:only-of-type {\n",
       "        vertical-align: middle;\n",
       "    }\n",
       "\n",
       "    .dataframe tbody tr th {\n",
       "        vertical-align: top;\n",
       "    }\n",
       "\n",
       "    .dataframe thead th {\n",
       "        text-align: right;\n",
       "    }\n",
       "</style>\n",
       "<table border=\"1\" class=\"dataframe\">\n",
       "  <thead>\n",
       "    <tr style=\"text-align: right;\">\n",
       "      <th></th>\n",
       "      <th>pred_value</th>\n",
       "      <th>date</th>\n",
       "    </tr>\n",
       "  </thead>\n",
       "  <tbody>\n",
       "    <tr>\n",
       "      <td>0</td>\n",
       "      <td>166510</td>\n",
       "      <td>2011-12-09</td>\n",
       "    </tr>\n",
       "    <tr>\n",
       "      <td>1</td>\n",
       "      <td>28242747</td>\n",
       "      <td>2011-12-09</td>\n",
       "    </tr>\n",
       "    <tr>\n",
       "      <td>2</td>\n",
       "      <td>6980117</td>\n",
       "      <td>2011-12-09</td>\n",
       "    </tr>\n",
       "    <tr>\n",
       "      <td>3</td>\n",
       "      <td>170314693</td>\n",
       "      <td>2011-12-09</td>\n",
       "    </tr>\n",
       "    <tr>\n",
       "      <td>4</td>\n",
       "      <td>332293887</td>\n",
       "      <td>2011-12-09</td>\n",
       "    </tr>\n",
       "  </tbody>\n",
       "</table>\n",
       "</div>"
      ],
      "text/plain": [
       "   pred_value       date\n",
       "0      166510 2011-12-09\n",
       "1    28242747 2011-12-09\n",
       "2     6980117 2011-12-09\n",
       "3   170314693 2011-12-09\n",
       "4   332293887 2011-12-09"
      ]
     },
     "execution_count": 240,
     "metadata": {},
     "output_type": "execute_result"
    }
   ],
   "source": [
    "# predicted sales for each channel\n",
    "df_result"
   ]
  },
  {
   "cell_type": "code",
   "execution_count": 260,
   "metadata": {},
   "outputs": [],
   "source": [
    "from pandas import DataFrame"
   ]
  },
  {
   "cell_type": "code",
   "execution_count": 263,
   "metadata": {},
   "outputs": [
    {
     "data": {
      "text/plain": [
       "[<matplotlib.lines.Line2D at 0x7fbf371cdcd0>]"
      ]
     },
     "execution_count": 263,
     "metadata": {},
     "output_type": "execute_result"
    },
    {
     "data": {
      "image/png": "[encoded data removed]",
      "text/plain": [
       "<Figure size 432x288 with 1 Axes>"
      ]
     },
     "metadata": {
      "needs_background": "light"
     },
     "output_type": "display_data"
    }
   ],
   "source": [
    "plt.plot( dates_category['Channel'][:5], DataFrame (act_sales[:5]),  marker='o', markerfacecolor='blue', markersize=12, color='skyblue', linewidth=4)\n",
    "plt.plot( dates_category['Channel'][:5], df_result['pred_value'][:5], marker='', color='olive', linewidth=2)"
   ]
  },
  {
   "cell_type": "markdown",
   "metadata": {},
   "source": [
    "The above graph shows the graph between the actual sales and the predicted sales with respect to the channel. Using LSTM our model predicted very good predictions as in the graph we can clearly see the actual sales(blue line) and the predicted sales(green) are overlapping "
   ]
  },
  {
   "cell_type": "markdown",
   "metadata": {},
   "source": [
    "## CONCLUSION\n",
    "\n",
    "First of all we read the data and try to visualize the data without applying any algorithm. Then, preprocess the data- checks the correlation between the attributes, handling the missing value, and checked the normalization of the data to  scale all the attributes to get better prediction value. We then split our datasets into training and test sets. We feed our algorithm with training sets and further analyze its prediction on test set with actual values. For the accuracy we calculated the Adjusted R squared. Finally, we plot the predicted value with actual value and observed how much is the difference between our actual and predicted values.\n",
    "\n",
    "<b> 3a - Explain which method you chose and why?</b>  \n",
    "<b> 3b - Explain how you evaluated your results?</b>                         \n",
    "<b> 3c - Summarize the accuracy of the forecast?</b>  \n",
    "\n",
    "We applied our algorithm on the complete dataset we get, but further when try to improve our model with removing some less important column from our dataset, we observe deviation from the model we get on complete dataset. Both the regression shows positive response.So to obtain best model, we have to take care of each part like preprocess the data completely, understand the importance of each attribute with our target attribute. Filter out the data which can affect our data and keep the necessary attributes.\n",
    "\n",
    "I have applied both Linear Regression and LSTM to create the sales forecast and to check which models performs better for our dataset. For Linear Regression model, we calculated Adjusted R-squared to check our model accuracy or how our model is perfoeming better. We get the Adjusted R-squared as 62% for our model. Another model that I used is LSTM. Initially, I calculated the predictions on y_test set which was approximately at 91%. Based on my evaluation I am chosing LSTM for my dataset as it the prediction for this model is 91% which is higher than linear regression. LSTM is capable of remembering the past information and while predicting the future values, it takes this past information into account. This is important in our case because the previous sales data is crucial in predicting its future sales.\n",
    "\n",
    "<b> Improvements </b> \n",
    "\n",
    "One improvement we can do for this model is to add holidays, breaks, and other seasonal effects. They can be simply added as a new feature. By using this model, we have our baseline sales predictions\n",
    "\n"
   ]
  },
  {
   "cell_type": "markdown",
   "metadata": {},
   "source": [
    "## CONTRIBUTION\n",
    "\n",
    "I completed the assessment independently!\n",
    "\n",
    "Own Contribution: 85%                                                                                           \n",
    "External source Contribution: 10%                                                                               \n",
    "Company's Contribution : 5%"
   ]
  },
  {
   "cell_type": "markdown",
   "metadata": {},
   "source": [
    "## CITATION\n",
    "\n",
    "https://pandas.pydata.org/pandas-docs/stable/reference/   \n",
    "\n",
    "http://www.sthda.com/english/articles/38-regression-model-validation/158-regression-model-accuracy-metrics-r-square-aic-bic-cp-and-more/\n",
    "\n",
    "https://docs.scipy.org/doc/numpy-1.15.0/reference/generated/\n",
    "\n",
    "https://seaborn.pydata.org/api.html\n",
    "\n",
    "https://scikit-learn.org/stable/modules/classes.html#module-sklearn.preprocessing\n",
    "\n",
    "https://scikit-learn.org/stable/modules/impute.html\n",
    "\n",
    "https://en.wikipedia.org/wiki/Long_short-term_memory\n",
    "\n",
    "https://machinelearningmastery.com/gentle-introduction-long-short-term-memory-networks-experts/\n"
   ]
  },
  {
   "cell_type": "markdown",
   "metadata": {},
   "source": [
    "## LICENSE\n",
    "\n",
    "Copyright 2019 Newzy Sharma \n",
    "\n",
    "Permission is hereby granted, free of charge, to any person obtaining a copy of this software and associated \n",
    "documentation files (the \"Software\"), to deal in the Software without restriction, including without limitation the \n",
    "rights to use, copy, modify, merge, publish, distribute, sublicense, and/or sell copies of the Software, and to permit\n",
    "persons to whom the Software is furnished to do so, subject to the following conditions:\n",
    "\n",
    "The above copyright notice and this permission notice shall be included in all copies or substantial portions of the \n",
    "Software.\n",
    "\n",
    "THE SOFTWARE IS PROVIDED \"AS IS\", WITHOUT WARRANTY OF ANY KIND, EXPRESS OR IMPLIED, INCLUDING BUT NOT LIMITED TO THE \n",
    "WARRANTIES OF MERCHANTABILITY, FITNESS FOR A PARTICULAR PURPOSE AND NONINFRINGEMENT. IN NO EVENT SHALL THE AUTHORS OR \n",
    "COPYRIGHT HOLDERS BE LIABLE FOR ANY CLAIM, DAMAGES OR OTHER LIABILITY, WHETHER IN AN ACTION OF CONTRACT, TORT OR \n",
    "OTHERWISE, ARISING FROM, OUT OF OR IN CONNECTION WITH THE SOFTWARE OR THE USE OR OTHER DEALINGS IN THE SOFTWARE."
   ]
  }
 ],
 "metadata": {
  "kernelspec": {
   "display_name": "Python 3",
   "language": "python",
   "name": "python3"
  },
  "language_info": {
   "codemirror_mode": {
    "name": "ipython",
    "version": 3
   },
   "file_extension": ".py",
   "mimetype": "text/x-python",
   "name": "python",
   "nbconvert_exporter": "python",
   "pygments_lexer": "ipython3",
   "version": "3.7.4"
  }
 },
 "nbformat": 4,
 "nbformat_minor": 2
}
